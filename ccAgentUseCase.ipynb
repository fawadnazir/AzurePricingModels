{
 "cells": [
  {
   "cell_type": "markdown",
   "metadata": {},
   "source": [
    "This file can be used to price Azure OpenAI and Azure AI Search for RAG-based use-cases.\n",
    "\n",
    "Reference to the Azure Services:\n",
    "1. Azure OpenAI : https://learn.microsoft.com/en-us/azure/ai-services/openai/overview\n",
    "2. Azure AI Search : https://learn.microsoft.com/en-us/azure/search/search-what-is-azure-search\n",
    "3. RAG Model : https://learn.microsoft.com/en-us/azure/search/retrieval-augmented-generation-overview\n",
    "\n",
    "The prices below are based on Australia East Region.\n",
    "Azure Pricing Calculator was used : https://azure.microsoft.com/en-au/pricing/calculator\n",
    "The prices are in AUD and are subject to change."
   ]
  },
  {
   "cell_type": "code",
   "execution_count": 298,
   "metadata": {},
   "outputs": [],
   "source": [
    "# AI Search Storage Tier Costs per month\n",
    "aiSearchStorageTierBasicCost = 148.76\n",
    "aiSearchStorageTierStandardS1Cost = 496.62\n",
    "aiSearchStorageTierStandardS2Cost = 1984.25\n",
    "aiSearchStorageTierStandardS3Cost = 3972.97\n",
    "aiSearchStorageTierStorageOptimizedL1Cost = 4293.99\n",
    "aiSearchStorageTierStorageOptimizedL2Cost = 8586.85\n",
    "\n",
    "def getAiSearchStorageTierCost(tier):\n",
    "    if tier == \"Basic\":\n",
    "        return aiSearchStorageTierBasicCost\n",
    "    elif tier == \"Standard S1\":\n",
    "        return aiSearchStorageTierStandardS1Cost\n",
    "    elif tier == \"Standard S2\":\n",
    "        return aiSearchStorageTierStandardS2Cost\n",
    "    elif tier == \"Standard S3\":\n",
    "        return aiSearchStorageTierStandardS3Cost\n",
    "    elif tier == \"Storage Optimized L1\":\n",
    "        return aiSearchStorageTierStorageOptimizedL1Cost\n",
    "    elif tier == \"Storage Optimized L2\":\n",
    "        return aiSearchStorageTierStorageOptimizedL2Cost\n",
    "    else:\n",
    "        return 0\n",
    "\n",
    "\n",
    "# AI Search Semantic Ranking Costs per 1000 queries and first 1000 queries are free\n",
    "aiSearchSemanticRankerCost = 1.53\n"
   ]
  },
  {
   "cell_type": "code",
   "execution_count": 299,
   "metadata": {},
   "outputs": [],
   "source": [
    "# Azure OpenAI Cost based on GPT-3.5-Tier-0124-16K per 1000 tokens\n",
    "azureOpenAIInputTokenCostGPT35Turbo16K = 0.0008\n",
    "azureOpenAIOutputTokenCostGPT35Turbo16K = 0.0023\n",
    "\n",
    "azureOpenAIInputTokenCostGPT4Turbo128K = 0.0153\n",
    "azureOpenAIOutputTokenCostGPT4Turbo128K = 0.0460\n",
    "\n",
    "azureOpenAIInputTokenCostGPT4TurboVision128K = 0.0153\n",
    "azureOpenAIOutputTokenCostGPT4TurboVision128K = 0.0460\n",
    "\n",
    "azureOpenAIInputTokenCostGPT48K = 0.0460\n",
    "azureOpenAIOutputTokenCostGPT48K = 0.0919\n",
    "\n",
    "azureOpenAIInputTokenCostGPT432K = 0.0919\n",
    "azureOpenAIOutputTokenCostGPT432K = 0.1839\n",
    "\n",
    "def getAzureOpenAIInputTokenCost(tier):\n",
    "    if tier == \"GPT-3.5-Turbo-16K\":\n",
    "        return azureOpenAIInputTokenCostGPT35Turbo16K\n",
    "    elif tier == \"GPT-4-Turbo-128K\":\n",
    "        return azureOpenAIInputTokenCostGPT4Turbo128K\n",
    "    elif tier == \"GPT-4-Turbo-Vision-128K\":\n",
    "        return azureOpenAIInputTokenCostGPT4TurboVision128K\n",
    "    elif tier == \"GPT-4-8K\":\n",
    "        return azureOpenAIInputTokenCostGPT48K\n",
    "    elif tier == \"GPT-4-32K\":\n",
    "        return azureOpenAIInputTokenCostGPT432K\n",
    "    else:\n",
    "        return 0\n",
    "    \n",
    "\n",
    "def getAzureOpenAIOutputTokenCost(tier):\n",
    "    if tier == \"GPT-3.5-Turbo-16K\":\n",
    "        return azureOpenAIOutputTokenCostGPT35Turbo16K\n",
    "    elif tier == \"GPT-4-Turbo-128K\":\n",
    "        return azureOpenAIOutputTokenCostGPT4Turbo128K\n",
    "    elif tier == \"GPT-4-Turbo-Vision-128K\":\n",
    "        return azureOpenAIOutputTokenCostGPT4TurboVision128K\n",
    "    elif tier == \"GPT-4-8K\":\n",
    "        return azureOpenAIOutputTokenCostGPT48K\n",
    "    elif tier == \"GPT-4-32K\":\n",
    "        return azureOpenAIOutputTokenCostGPT432K\n",
    "    else:\n",
    "        return 0\n",
    "\n"
   ]
  },
  {
   "cell_type": "markdown",
   "metadata": {},
   "source": [
    "In this section we will start to model a contact center agent based RAG use-cases. The following are the parameters we will use\n",
    "\n",
    "1. Number of agents e.g. 100\n",
    "2. How much time it takes to address a customer query e.g. 5 mins\n",
    "3. How many words used in an input query | Assumption 1 word = 0.75 tokens | https://help.openai.com/en/articles/4936856-what-are-tokens-and-how-to-count-them\n",
    "4. How many words in a query response | Assumption 1 word = 0.75 tokens | https://help.openai.com/en/articles/4936856-what-are-tokens-and-how-to-count-them\n",
    "5. working days in a month e.g. 20"
   ]
  },
  {
   "cell_type": "code",
   "execution_count": 300,
   "metadata": {},
   "outputs": [],
   "source": [
    "numberOfUseCases = 7\n",
    "numberOfAgents = 300\n",
    "azureDiscount = 0.20\n",
    "storageTier = \"Storage Optimized L2\"\n",
    "aoaiModel = \"GPT-3.5-Turbo-16K\"\n",
    "\n",
    "\n",
    "timeToAnswerCustomerQueryMins = 5\n",
    "wordsInputQuery = 2500\n",
    "wordsOutputQuery = 500\n",
    "workingHoursInADay = 8\n",
    "workingDaysInMonth = 20\n",
    "tokensInAWord=1.34"
   ]
  },
  {
   "cell_type": "code",
   "execution_count": 301,
   "metadata": {},
   "outputs": [],
   "source": [
    "#perHourCost\n",
    "costOfInputTokensPerHour = numberOfAgents * (60.0 / timeToAnswerCustomerQueryMins) * ((wordsInputQuery * tokensInAWord)/1000.0) * getAzureOpenAIInputTokenCost(aoaiModel)\n",
    "costOfOutputTokensPerHour = numberOfAgents * (60.0 / timeToAnswerCustomerQueryMins) * ((wordsOutputQuery * tokensInAWord)/1000.0) * getAzureOpenAIOutputTokenCost(aoaiModel)\n",
    "numberOfSearchQueriesPerHour = numberOfAgents * (60.0 / timeToAnswerCustomerQueryMins)\n",
    "\n",
    "#perMonthCost\n",
    "costOfInputTokensPerMonth = costOfInputTokensPerHour * workingHoursInADay * workingDaysInMonth\n",
    "costOfOutputTokensPerMonth = costOfOutputTokensPerHour * workingHoursInADay * workingDaysInMonth\n",
    "costNumberOfSearchQueriesPerMonth = (((numberOfSearchQueriesPerHour * workingHoursInADay * workingDaysInMonth)-1000)/1000) * aiSearchSemanticRankerCost\n",
    "totalCostPerMonth = getAiSearchStorageTierCost(storageTier) + costOfInputTokensPerMonth + costOfOutputTokensPerMonth + costNumberOfSearchQueriesPerMonth"
   ]
  },
  {
   "cell_type": "code",
   "execution_count": 302,
   "metadata": {},
   "outputs": [
    {
     "name": "stdout",
     "output_type": "stream",
     "text": [
      "Azure AI Search : Storage Tier Cost Per Month 8586.85\n",
      "Azure AI Search : Semantic Ranker Cost Per Month 879.75\n",
      "Azure OpenAI : Input Token Cost Per Month 1543.6799999999998\n",
      "Azure OpenAI : Output Token Cost Per Month 887.616\n",
      "Total Azure AI Search Cost 9466.6\n",
      "Total Azure OpenAI Cost 2431.296\n",
      "Total Cost Per Month for One Use-Case 11897.896\n",
      "\n",
      "---------------Multiple Similar Use-Cases--------------------\n",
      "Total cost for Azure AI Search for 7 UseCases 66266.2\n",
      "Total cost for Azure OpenAI for 7 UseCases 17019.072\n",
      "Total cost for 7 UseCases 83285.272\n",
      "\n",
      "---------------After Discount--------------------\n",
      "Total cost for Azure AI Search for 7 UseCases 53012.96\n",
      "Total cost for Azure OpenAI for 7 UseCases 13615.2576\n",
      "Total cost for 7 UseCases 66628.2176\n"
     ]
    }
   ],
   "source": [
    "print(\"Azure AI Search : Storage Tier Cost Per Month\", getAiSearchStorageTierCost(storageTier))\n",
    "print(\"Azure AI Search : Semantic Ranker Cost Per Month\",costNumberOfSearchQueriesPerMonth)\n",
    "print(\"Azure OpenAI : Input Token Cost Per Month\",costOfInputTokensPerMonth)\n",
    "print(\"Azure OpenAI : Output Token Cost Per Month\",costOfOutputTokensPerMonth)\n",
    "print(\"Total Azure AI Search Cost\",getAiSearchStorageTierCost(storageTier) + costNumberOfSearchQueriesPerMonth)\n",
    "print(\"Total Azure OpenAI Cost\",costOfInputTokensPerMonth + costOfOutputTokensPerMonth)\n",
    "print(\"Total Cost Per Month for One Use-Case\",totalCostPerMonth)\n",
    "print(\"\\n---------------Multiple Similar Use-Cases--------------------\")\n",
    "print(\"Total cost for Azure AI Search for\", numberOfUseCases, \"UseCases\", (getAiSearchStorageTierCost(storageTier) + costNumberOfSearchQueriesPerMonth) * numberOfUseCases)\n",
    "print(\"Total cost for Azure OpenAI for\", numberOfUseCases, \"UseCases\", (costOfInputTokensPerMonth + costOfOutputTokensPerMonth) * numberOfUseCases)\n",
    "print(\"Total cost for\", numberOfUseCases, \"UseCases\",numberOfUseCases*totalCostPerMonth)\n",
    "print(\"\\n---------------After Discount--------------------\")\n",
    "print(\"Total cost for Azure AI Search for\", numberOfUseCases, \"UseCases\", ((getAiSearchStorageTierCost(storageTier) + costNumberOfSearchQueriesPerMonth) * numberOfUseCases) * (1-azureDiscount))\n",
    "print(\"Total cost for Azure OpenAI for\", numberOfUseCases, \"UseCases\", ((costOfInputTokensPerMonth + costOfOutputTokensPerMonth) * numberOfUseCases) * (1-azureDiscount))\n",
    "print(\"Total cost for\", numberOfUseCases, \"UseCases\",(numberOfUseCases*totalCostPerMonth) * (1 - azureDiscount))"
   ]
  }
 ],
 "metadata": {
  "kernelspec": {
   "display_name": "Python 3",
   "language": "python",
   "name": "python3"
  },
  "language_info": {
   "codemirror_mode": {
    "name": "ipython",
    "version": 3
   },
   "file_extension": ".py",
   "mimetype": "text/x-python",
   "name": "python",
   "nbconvert_exporter": "python",
   "pygments_lexer": "ipython3",
   "version": "3.12.3"
  }
 },
 "nbformat": 4,
 "nbformat_minor": 2
}
